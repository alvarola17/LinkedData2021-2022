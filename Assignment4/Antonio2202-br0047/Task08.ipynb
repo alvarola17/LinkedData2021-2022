{
  "nbformat": 4,
  "nbformat_minor": 0,
  "metadata": {
    "colab": {
      "name": "Task08.ipynb",
      "provenance": [],
      "collapsed_sections": []
    },
    "kernelspec": {
      "name": "python3",
      "display_name": "Python 3"
    }
  },
  "cells": [
    {
      "cell_type": "markdown",
      "metadata": {
        "id": "rb2ewz-dC6GC"
      },
      "source": [
        "**Task 08: Completing missing data**"
      ]
    },
    {
      "cell_type": "code",
      "metadata": {
        "id": "0sQG2Y915Isp",
        "colab": {
          "base_uri": "https://localhost:8080/"
        },
        "outputId": "25fbee80-78e2-419e-80fe-1e06f24cefdf"
      },
      "source": [
        "!pip install rdflib\n",
        "github_storage = \"https://raw.githubusercontent.com/AndreaCimminoArriaga/LinkedData2021-2022/main/Assignment4/\""
      ],
      "execution_count": 1,
      "outputs": [
        {
          "output_type": "stream",
          "name": "stdout",
          "text": [
            "Collecting rdflib\n",
            "  Downloading rdflib-6.0.2-py3-none-any.whl (407 kB)\n",
            "\u001b[?25l\r\u001b[K     |▉                               | 10 kB 24.5 MB/s eta 0:00:01\r\u001b[K     |█▋                              | 20 kB 30.4 MB/s eta 0:00:01\r\u001b[K     |██▍                             | 30 kB 34.7 MB/s eta 0:00:01\r\u001b[K     |███▏                            | 40 kB 36.5 MB/s eta 0:00:01\r\u001b[K     |████                            | 51 kB 36.2 MB/s eta 0:00:01\r\u001b[K     |████▉                           | 61 kB 34.0 MB/s eta 0:00:01\r\u001b[K     |█████▋                          | 71 kB 30.2 MB/s eta 0:00:01\r\u001b[K     |██████▍                         | 81 kB 29.6 MB/s eta 0:00:01\r\u001b[K     |███████▎                        | 92 kB 29.9 MB/s eta 0:00:01\r\u001b[K     |████████                        | 102 kB 31.6 MB/s eta 0:00:01\r\u001b[K     |████████▉                       | 112 kB 31.6 MB/s eta 0:00:01\r\u001b[K     |█████████▋                      | 122 kB 31.6 MB/s eta 0:00:01\r\u001b[K     |██████████▌                     | 133 kB 31.6 MB/s eta 0:00:01\r\u001b[K     |███████████▎                    | 143 kB 31.6 MB/s eta 0:00:01\r\u001b[K     |████████████                    | 153 kB 31.6 MB/s eta 0:00:01\r\u001b[K     |████████████▉                   | 163 kB 31.6 MB/s eta 0:00:01\r\u001b[K     |█████████████▊                  | 174 kB 31.6 MB/s eta 0:00:01\r\u001b[K     |██████████████▌                 | 184 kB 31.6 MB/s eta 0:00:01\r\u001b[K     |███████████████▎                | 194 kB 31.6 MB/s eta 0:00:01\r\u001b[K     |████████████████                | 204 kB 31.6 MB/s eta 0:00:01\r\u001b[K     |█████████████████               | 215 kB 31.6 MB/s eta 0:00:01\r\u001b[K     |█████████████████▊              | 225 kB 31.6 MB/s eta 0:00:01\r\u001b[K     |██████████████████▌             | 235 kB 31.6 MB/s eta 0:00:01\r\u001b[K     |███████████████████▎            | 245 kB 31.6 MB/s eta 0:00:01\r\u001b[K     |████████████████████▏           | 256 kB 31.6 MB/s eta 0:00:01\r\u001b[K     |█████████████████████           | 266 kB 31.6 MB/s eta 0:00:01\r\u001b[K     |█████████████████████▊          | 276 kB 31.6 MB/s eta 0:00:01\r\u001b[K     |██████████████████████▌         | 286 kB 31.6 MB/s eta 0:00:01\r\u001b[K     |███████████████████████▍        | 296 kB 31.6 MB/s eta 0:00:01\r\u001b[K     |████████████████████████▏       | 307 kB 31.6 MB/s eta 0:00:01\r\u001b[K     |█████████████████████████       | 317 kB 31.6 MB/s eta 0:00:01\r\u001b[K     |█████████████████████████▊      | 327 kB 31.6 MB/s eta 0:00:01\r\u001b[K     |██████████████████████████▋     | 337 kB 31.6 MB/s eta 0:00:01\r\u001b[K     |███████████████████████████▍    | 348 kB 31.6 MB/s eta 0:00:01\r\u001b[K     |████████████████████████████▏   | 358 kB 31.6 MB/s eta 0:00:01\r\u001b[K     |█████████████████████████████   | 368 kB 31.6 MB/s eta 0:00:01\r\u001b[K     |█████████████████████████████▉  | 378 kB 31.6 MB/s eta 0:00:01\r\u001b[K     |██████████████████████████████▋ | 389 kB 31.6 MB/s eta 0:00:01\r\u001b[K     |███████████████████████████████▍| 399 kB 31.6 MB/s eta 0:00:01\r\u001b[K     |████████████████████████████████| 407 kB 31.6 MB/s \n",
            "\u001b[?25hRequirement already satisfied: setuptools in /usr/local/lib/python3.7/dist-packages (from rdflib) (57.4.0)\n",
            "Requirement already satisfied: pyparsing in /usr/local/lib/python3.7/dist-packages (from rdflib) (2.4.7)\n",
            "Collecting isodate\n",
            "  Downloading isodate-0.6.0-py2.py3-none-any.whl (45 kB)\n",
            "\u001b[K     |████████████████████████████████| 45 kB 3.9 MB/s \n",
            "\u001b[?25hRequirement already satisfied: six in /usr/local/lib/python3.7/dist-packages (from isodate->rdflib) (1.15.0)\n",
            "Installing collected packages: isodate, rdflib\n",
            "Successfully installed isodate-0.6.0 rdflib-6.0.2\n"
          ]
        }
      ]
    },
    {
      "cell_type": "code",
      "metadata": {
        "id": "Jb4QeLue5NLr"
      },
      "source": [
        "from rdflib import Graph, Namespace, Literal, URIRef\n",
        "g1 = Graph()\n",
        "g2 = Graph()\n",
        "g1.parse(github_storage+\"resources/data01.rdf\", format=\"xml\")\n",
        "g2.parse(github_storage+\"resources/data02.rdf\", format=\"xml\")\n",
        "ns = Namespace(\"http://somewhere#\")\n",
        "vcard = Namespace(\"http://www.w3.org/2001/vcard-rdf/3.0#\")\n",
        "RDF = Namespace('http://www.w3.org/1999/02/22-rdf-syntax-ns#')\n",
        "RDFS = Namespace('http://www.w3.org/2000/01/rdf-schema#')\n",
        "data = Namespace('http://data.org#')"
      ],
      "execution_count": 2,
      "outputs": []
    },
    {
      "cell_type": "markdown",
      "metadata": {
        "id": "kxxKghwBElOm"
      },
      "source": [
        "Tarea: lista todos los elementos de la clase Person en el primer grafo (data01.rdf) y completa los campos (given name, family name y email) que puedan faltar con los datos del segundo grafo (data02.rdf). Puedes usar consultas SPARQL o iterar el grafo, o ambas cosas."
      ]
    },
    {
      "cell_type": "code",
      "metadata": {
        "colab": {
          "base_uri": "https://localhost:8080/"
        },
        "id": "9RRzgOogk16e",
        "outputId": "b631a042-bfe1-4918-c3ed-b8280e501969"
      },
      "source": [
        "for s,p,o in g1.triples((None, None, data.Person)):\n",
        "  print(s,p)"
      ],
      "execution_count": 3,
      "outputs": [
        {
          "output_type": "stream",
          "name": "stdout",
          "text": [
            "http://data.org#SaraJones http://www.w3.org/1999/02/22-rdf-syntax-ns#type\n",
            "http://data.org#JohnSmith http://www.w3.org/1999/02/22-rdf-syntax-ns#type\n",
            "http://data.org#JohnDoe http://www.w3.org/1999/02/22-rdf-syntax-ns#type\n",
            "http://data.org#HarryPotter http://www.w3.org/1999/02/22-rdf-syntax-ns#type\n"
          ]
        }
      ]
    },
    {
      "cell_type": "code",
      "metadata": {
        "colab": {
          "base_uri": "https://localhost:8080/"
        },
        "id": "x9dGUNPYlZ-2",
        "outputId": "9b63f73b-5283-4b42-80a7-fe023142a395"
      },
      "source": [
        "for s in g1:\n",
        "  print(s)"
      ],
      "execution_count": 4,
      "outputs": [
        {
          "output_type": "stream",
          "name": "stdout",
          "text": [
            "(rdflib.term.URIRef('http://www.w3.org/2001/vcard-rdf/3.0#EMAIL'), rdflib.term.URIRef('http://www.w3.org/1999/02/22-rdf-syntax-ns#type'), rdflib.term.URIRef('http://www.w3.org/2000/01/rdf-schema#Datatype'))\n",
            "(rdflib.term.URIRef('http://data.org#JohnSmith'), rdflib.term.URIRef('http://www.w3.org/2001/vcard-rdf/3.0#EMAIL'), rdflib.term.Literal('j.smith@data.org', datatype=rdflib.term.URIRef('http://www.w3.org/2001/XMLSchema#string')))\n",
            "(rdflib.term.URIRef('http://data.org#SaraJones'), rdflib.term.URIRef('http://www.w3.org/1999/02/22-rdf-syntax-ns#type'), rdflib.term.URIRef('http://data.org#Person'))\n",
            "(rdflib.term.URIRef('http://data.org#JohnSmith'), rdflib.term.URIRef('http://www.w3.org/2001/vcard-rdf/3.0#Given'), rdflib.term.Literal('John', datatype=rdflib.term.URIRef('http://www.w3.org/2001/XMLSchema#string')))\n",
            "(rdflib.term.URIRef('http://www.w3.org/2001/vcard-rdf/3.0#Given'), rdflib.term.URIRef('http://www.w3.org/1999/02/22-rdf-syntax-ns#type'), rdflib.term.URIRef('http://www.w3.org/2000/01/rdf-schema#Datatype'))\n",
            "(rdflib.term.URIRef('http://data.org#JohnDoe'), rdflib.term.URIRef('http://www.w3.org/2001/vcard-rdf/3.0#Family'), rdflib.term.Literal('Doe', datatype=rdflib.term.URIRef('http://www.w3.org/2001/XMLSchema#string')))\n",
            "(rdflib.term.URIRef('http://www.w3.org/2001/vcard-rdf/3.0#Given'), rdflib.term.URIRef('http://www.w3.org/2000/01/rdf-schema#range'), rdflib.term.URIRef('http://www.w3.org/2001/XMLSchema#string'))\n",
            "(rdflib.term.URIRef('http://data.org#JohnDoe'), rdflib.term.URIRef('http://www.w3.org/2001/vcard-rdf/3.0#EMAIL'), rdflib.term.Literal('doe@data.org', datatype=rdflib.term.URIRef('http://www.w3.org/2001/XMLSchema#string')))\n",
            "(rdflib.term.URIRef('http://www.w3.org/2001/vcard-rdf/3.0#Family'), rdflib.term.URIRef('http://www.w3.org/2000/01/rdf-schema#range'), rdflib.term.URIRef('http://www.w3.org/2001/XMLSchema#string'))\n",
            "(rdflib.term.URIRef('http://data.org#JohnSmith'), rdflib.term.URIRef('http://www.w3.org/1999/02/22-rdf-syntax-ns#type'), rdflib.term.URIRef('http://data.org#Person'))\n",
            "(rdflib.term.URIRef('http://data.org#HarryPotter'), rdflib.term.URIRef('http://www.w3.org/2001/vcard-rdf/3.0#Given'), rdflib.term.Literal('Harry', datatype=rdflib.term.URIRef('http://www.w3.org/2001/XMLSchema#string')))\n",
            "(rdflib.term.URIRef('http://data.org#HarryPotter'), rdflib.term.URIRef('http://www.w3.org/2001/vcard-rdf/3.0#Family'), rdflib.term.Literal('Potter', datatype=rdflib.term.URIRef('http://www.w3.org/2001/XMLSchema#string')))\n",
            "(rdflib.term.URIRef('http://www.w3.org/2001/vcard-rdf/3.0#Family'), rdflib.term.URIRef('http://www.w3.org/1999/02/22-rdf-syntax-ns#type'), rdflib.term.URIRef('http://www.w3.org/2000/01/rdf-schema#Property'))\n",
            "(rdflib.term.URIRef('http://www.w3.org/2001/vcard-rdf/3.0#EMAIL'), rdflib.term.URIRef('http://www.w3.org/2000/01/rdf-schema#range'), rdflib.term.URIRef('http://www.w3.org/2001/XMLSchema#string'))\n",
            "(rdflib.term.URIRef('http://data.org#Person'), rdflib.term.URIRef('http://www.w3.org/1999/02/22-rdf-syntax-ns#type'), rdflib.term.URIRef('http://www.w3.org/2000/01/rdf-schema#Class'))\n",
            "(rdflib.term.URIRef('http://data.org#HarryPotter'), rdflib.term.URIRef('http://www.w3.org/1999/02/22-rdf-syntax-ns#type'), rdflib.term.URIRef('http://data.org#Person'))\n",
            "(rdflib.term.URIRef('http://data.org#JohnDoe'), rdflib.term.URIRef('http://www.w3.org/1999/02/22-rdf-syntax-ns#type'), rdflib.term.URIRef('http://data.org#Person'))\n"
          ]
        }
      ]
    },
    {
      "cell_type": "code",
      "metadata": {
        "colab": {
          "base_uri": "https://localhost:8080/"
        },
        "id": "xp7cs5USnVl2",
        "outputId": "c550180d-a548-4ba6-db8b-2e8a022e4ac7"
      },
      "source": [
        "for s in g2:\n",
        "  print(s)"
      ],
      "execution_count": 5,
      "outputs": [
        {
          "output_type": "stream",
          "name": "stdout",
          "text": [
            "(rdflib.term.URIRef('http://www.w3.org/2001/vcard-rdf/3.0/EMAIL'), rdflib.term.URIRef('http://www.w3.org/1999/02/22-rdf-syntax-ns#type'), rdflib.term.URIRef('http://www.w3.org/2000/01/rdf-schema#Datatype'))\n",
            "(rdflib.term.URIRef('http://data.org#JohnSmith'), rdflib.term.URIRef('http://www.w3.org/2001/vcard-rdf/3.0#EMAIL'), rdflib.term.Literal('j.smith@data.org', datatype=rdflib.term.URIRef('http://www.w3.org/2001/XMLSchema#string')))\n",
            "(rdflib.term.URIRef('http://data.org#JohnSmith'), rdflib.term.URIRef('http://www.w3.org/2001/vcard-rdf/3.0#Family'), rdflib.term.Literal('Smith', datatype=rdflib.term.URIRef('http://www.w3.org/2001/XMLSchema#string')))\n",
            "(rdflib.term.URIRef('http://data.org#SaraJones'), rdflib.term.URIRef('http://www.w3.org/1999/02/22-rdf-syntax-ns#type'), rdflib.term.URIRef('http://data.org#Person'))\n",
            "(rdflib.term.URIRef('http://data.org#SaraJones'), rdflib.term.URIRef('http://www.w3.org/2001/vcard-rdf/3.0#Given'), rdflib.term.Literal('Sara', datatype=rdflib.term.URIRef('http://www.w3.org/2001/XMLSchema#string')))\n",
            "(rdflib.term.URIRef('http://data.org#JohnSmith'), rdflib.term.URIRef('http://www.w3.org/2001/vcard-rdf/3.0#Given'), rdflib.term.Literal('John', datatype=rdflib.term.URIRef('http://www.w3.org/2001/XMLSchema#string')))\n",
            "(rdflib.term.URIRef('http://www.w3.org/2001/vcard-rdf/3.0/FN'), rdflib.term.URIRef('http://www.w3.org/1999/02/22-rdf-syntax-ns#type'), rdflib.term.URIRef('http://www.w3.org/2000/01/rdf-schema#Datatype'))\n",
            "(rdflib.term.URIRef('http://data.org#JohnDoe'), rdflib.term.URIRef('http://www.w3.org/2001/vcard-rdf/3.0#Family'), rdflib.term.Literal('Doe', datatype=rdflib.term.URIRef('http://www.w3.org/2001/XMLSchema#string')))\n",
            "(rdflib.term.URIRef('http://data.org#HarryPotter'), rdflib.term.URIRef('http://www.w3.org/2001/vcard-rdf/3.0#EMAIL'), rdflib.term.Literal('hpotter@hogwarts.org', datatype=rdflib.term.URIRef('http://www.w3.org/2001/XMLSchema#string')))\n",
            "(rdflib.term.URIRef('http://www.w3.org/2001/vcard-rdf/3.0/Given'), rdflib.term.URIRef('http://www.w3.org/2000/01/rdf-schema#range'), rdflib.term.URIRef('http://www.w3.org/2001/XMLSchema#string'))\n",
            "(rdflib.term.URIRef('http://www.w3.org/2001/vcard-rdf/3.0/Family'), rdflib.term.URIRef('http://www.w3.org/2000/01/rdf-schema#range'), rdflib.term.URIRef('http://www.w3.org/2001/XMLSchema#string'))\n",
            "(rdflib.term.URIRef('http://www.w3.org/2001/vcard-rdf/3.0/Given'), rdflib.term.URIRef('http://www.w3.org/1999/02/22-rdf-syntax-ns#type'), rdflib.term.URIRef('http://www.w3.org/2000/01/rdf-schema#Datatype'))\n",
            "(rdflib.term.URIRef('http://www.w3.org/2001/vcard-rdf/3.0/Family'), rdflib.term.URIRef('http://www.w3.org/1999/02/22-rdf-syntax-ns#type'), rdflib.term.URIRef('http://www.w3.org/2000/01/rdf-schema#Property'))\n",
            "(rdflib.term.URIRef('http://data.org#JohnDoe'), rdflib.term.URIRef('http://www.w3.org/2001/vcard-rdf/3.0#EMAIL'), rdflib.term.Literal('doe@data.org', datatype=rdflib.term.URIRef('http://www.w3.org/2001/XMLSchema#string')))\n",
            "(rdflib.term.URIRef('http://data.org#HarryPotter'), rdflib.term.URIRef('http://www.w3.org/1999/02/22-rdf-syntax-ns#type'), rdflib.term.URIRef('http://data.org#Person'))\n",
            "(rdflib.term.URIRef('http://data.org#JohnSmith'), rdflib.term.URIRef('http://www.w3.org/1999/02/22-rdf-syntax-ns#type'), rdflib.term.URIRef('http://data.org#Person'))\n",
            "(rdflib.term.URIRef('http://data.org#HarryPotter'), rdflib.term.URIRef('http://www.w3.org/2001/vcard-rdf/3.0#Given'), rdflib.term.Literal('Harry', datatype=rdflib.term.URIRef('http://www.w3.org/2001/XMLSchema#string')))\n",
            "(rdflib.term.URIRef('http://data.org#HarryPotter'), rdflib.term.URIRef('http://www.w3.org/2001/vcard-rdf/3.0#FN'), rdflib.term.Literal('Harry Potter', datatype=rdflib.term.URIRef('http://www.w3.org/2001/XMLSchema#string')))\n",
            "(rdflib.term.URIRef('http://www.w3.org/2001/vcard-rdf/3.0/EMAIL'), rdflib.term.URIRef('http://www.w3.org/2000/01/rdf-schema#range'), rdflib.term.URIRef('http://www.w3.org/2001/XMLSchema#string'))\n",
            "(rdflib.term.URIRef('http://data.org#JohnDoe'), rdflib.term.URIRef('http://www.w3.org/2001/vcard-rdf/3.0#Given'), rdflib.term.Literal('John', datatype=rdflib.term.URIRef('http://www.w3.org/2001/XMLSchema#string')))\n",
            "(rdflib.term.URIRef('http://data.org#SaraJones'), rdflib.term.URIRef('http://www.w3.org/2001/vcard-rdf/3.0#Family'), rdflib.term.Literal('Jones', datatype=rdflib.term.URIRef('http://www.w3.org/2001/XMLSchema#string')))\n",
            "(rdflib.term.URIRef('http://data.org#SaraJones'), rdflib.term.URIRef('http://www.w3.org/2001/vcard-rdf/3.0#EMAIL'), rdflib.term.Literal('sara.jones@data.org', datatype=rdflib.term.URIRef('http://www.w3.org/2001/XMLSchema#string')))\n",
            "(rdflib.term.URIRef('http://data.org#Person'), rdflib.term.URIRef('http://www.w3.org/1999/02/22-rdf-syntax-ns#type'), rdflib.term.URIRef('http://www.w3.org/2000/01/rdf-schema#Class'))\n",
            "(rdflib.term.URIRef('http://www.w3.org/2001/vcard-rdf/3.0/FN'), rdflib.term.URIRef('http://www.w3.org/2000/01/rdf-schema#range'), rdflib.term.URIRef('http://www.w3.org/2001/XMLSchema#string'))\n",
            "(rdflib.term.URIRef('http://data.org#JohnDoe'), rdflib.term.URIRef('http://www.w3.org/1999/02/22-rdf-syntax-ns#type'), rdflib.term.URIRef('http://data.org#Person'))\n"
          ]
        }
      ]
    },
    {
      "cell_type": "code",
      "metadata": {
        "colab": {
          "base_uri": "https://localhost:8080/"
        },
        "id": "KC7oy9x8mid-",
        "outputId": "c7693e12-c518-44d3-aedc-375785d1f2e8"
      },
      "source": [
        "for s,p,o in g1.triples((None, None, data.Person)):\n",
        "  for s1,p1,o1 in g2.triples((s,vcard.Given,None)):\n",
        "    print(s1,p1,o1)"
      ],
      "execution_count": 6,
      "outputs": [
        {
          "output_type": "stream",
          "name": "stdout",
          "text": [
            "http://data.org#SaraJones http://www.w3.org/2001/vcard-rdf/3.0#Given Sara\n",
            "http://data.org#JohnSmith http://www.w3.org/2001/vcard-rdf/3.0#Given John\n",
            "http://data.org#JohnDoe http://www.w3.org/2001/vcard-rdf/3.0#Given John\n",
            "http://data.org#HarryPotter http://www.w3.org/2001/vcard-rdf/3.0#Given Harry\n"
          ]
        }
      ]
    },
    {
      "cell_type": "code",
      "metadata": {
        "colab": {
          "base_uri": "https://localhost:8080/"
        },
        "id": "evuuMYVXpDcy",
        "outputId": "59ad3e5e-dd11-42de-c651-374b0b8ef5ca"
      },
      "source": [
        "for s,p,o in g1.triples((None, RDF.type, data.Person)):\n",
        "  for s1,p1,o1 in g2.triples((s,vcard.Family,None)):\n",
        "    print(s1,p1,o1)"
      ],
      "execution_count": null,
      "outputs": [
        {
          "output_type": "stream",
          "name": "stdout",
          "text": [
            "http://data.org#SaraJones http://www.w3.org/2001/vcard-rdf/3.0#Family Jones\n",
            "http://data.org#JohnSmith http://www.w3.org/2001/vcard-rdf/3.0#Family Smith\n",
            "http://data.org#JohnDoe http://www.w3.org/2001/vcard-rdf/3.0#Family Doe\n"
          ]
        }
      ]
    },
    {
      "cell_type": "code",
      "metadata": {
        "colab": {
          "base_uri": "https://localhost:8080/"
        },
        "id": "sLnF1E-IpJFH",
        "outputId": "082c3ed5-1781-42df-ce67-e0e6de65cd6c"
      },
      "source": [
        "g2.add((data.HarryPotter, vcard.Family, Literal('Potter')))\n",
        "for s,p,o in g1.triples((None, RDF.type, data.Person)):\n",
        "  for s1,p1,o1 in g2.triples((s,vcard.Family,None)):\n",
        "    print(s1,p1,o1)"
      ],
      "execution_count": null,
      "outputs": [
        {
          "output_type": "stream",
          "name": "stdout",
          "text": [
            "http://data.org#SaraJones http://www.w3.org/2001/vcard-rdf/3.0#Family Jones\n",
            "http://data.org#JohnSmith http://www.w3.org/2001/vcard-rdf/3.0#Family Smith\n",
            "http://data.org#JohnDoe http://www.w3.org/2001/vcard-rdf/3.0#Family Doe\n",
            "http://data.org#HarryPotter http://www.w3.org/2001/vcard-rdf/3.0#Family Potter\n"
          ]
        }
      ]
    },
    {
      "cell_type": "code",
      "metadata": {
        "colab": {
          "base_uri": "https://localhost:8080/"
        },
        "id": "8ctrktxWpf5m",
        "outputId": "5a5f96ac-6ee8-4c47-b205-b15c97c3c6b0"
      },
      "source": [
        "for s,p,o in g1.triples((None, RDF.type, data.Person)):\n",
        "  for s1,p1,o1 in g2.triples((s,vcard.EMAIL,None)):\n",
        "    print(s1,p1,o1)"
      ],
      "execution_count": null,
      "outputs": [
        {
          "output_type": "stream",
          "name": "stdout",
          "text": [
            "http://data.org#SaraJones http://www.w3.org/2001/vcard-rdf/3.0#EMAIL sara.jones@data.org\n",
            "http://data.org#JohnSmith http://www.w3.org/2001/vcard-rdf/3.0#EMAIL j.smith@data.org\n",
            "http://data.org#JohnDoe http://www.w3.org/2001/vcard-rdf/3.0#EMAIL doe@data.org\n",
            "http://data.org#HarryPotter http://www.w3.org/2001/vcard-rdf/3.0#EMAIL hpotter@hogwarts.org\n"
          ]
        }
      ]
    }
  ]
}