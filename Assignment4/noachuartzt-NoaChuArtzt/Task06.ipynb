{
  "cells": [
    {
      "cell_type": "markdown",
      "metadata": {
        "colab_type": "text",
        "id": "nOOPLCHF7hLB"
      },
      "source": [
        "**Task 06: Modifying RDF(s)**"
      ]
    },
    {
      "cell_type": "code",
      "execution_count": 34,
      "metadata": {
        "colab": {},
        "colab_type": "code",
        "id": "Yl9npCt8n6m-"
      },
      "outputs": [],
      "source": [
        "# !pip install rdflib \n",
        "github_storage = \"https://raw.githubusercontent.com/AndreaCimminoArriaga/LinkedData2021-2022/main/Assignment4/\""
      ]
    },
    {
      "cell_type": "markdown",
      "metadata": {
        "colab_type": "text",
        "id": "XY7aPc86Bqoo"
      },
      "source": [
        "Leemos el fichero RDF de la forma que lo hemos venido haciendo"
      ]
    },
    {
      "cell_type": "code",
      "execution_count": 35,
      "metadata": {
        "colab": {},
        "colab_type": "code",
        "id": "9ERh415on7kF"
      },
      "outputs": [
        {
          "data": {
            "text/plain": [
              "<Graph identifier=N8e7ad3c92c5646ed9455c2ff5bd1b597 (<class 'rdflib.graph.Graph'>)>"
            ]
          },
          "execution_count": 35,
          "metadata": {},
          "output_type": "execute_result"
        }
      ],
      "source": [
        "from rdflib import Graph, Namespace, Literal\n",
        "from rdflib.namespace import RDF, RDFS\n",
        "g = Graph()\n",
        "g.namespace_manager.bind('ns', Namespace(\"http://somewhere#\"), override=False)\n",
        "g.namespace_manager.bind('vcard', Namespace(\"http://www.w3.org/2001/vcard-rdf/3.0#\"), override=False)\n",
        "g.parse(github_storage+\"/resources/example5.rdf\", format=\"xml\")"
      ]
    },
    {
      "cell_type": "markdown",
      "metadata": {
        "colab_type": "text",
        "id": "gM3DASkTQQ5Y"
      },
      "source": [
        "**Create a new class named Researcher**"
      ]
    },
    {
      "cell_type": "code",
      "execution_count": 36,
      "metadata": {
        "colab": {},
        "colab_type": "code",
        "id": "6vtudax8Xb7b"
      },
      "outputs": [
        {
          "name": "stdout",
          "output_type": "stream",
          "text": [
            "http://somewhere#JohnSmith http://www.w3.org/2001/vcard-rdf/3.0/Family Smith\n",
            "http://somewhere#Researcher http://www.w3.org/1999/02/22-rdf-syntax-ns#type http://www.w3.org/2000/01/rdf-schema#Class\n",
            "http://somewhere#JohnSmith http://www.w3.org/2001/vcard-rdf/3.0/FN John Smith\n",
            "http://www.w3.org/2001/vcard-rdf/3.0/Family http://www.w3.org/2000/01/rdf-schema#range http://www.w3.org/2001/XMLSchema#string\n",
            "http://somewhere#Person http://www.w3.org/1999/02/22-rdf-syntax-ns#type http://www.w3.org/2000/01/rdf-schema#Class\n",
            "http://somewhere#JohnSmith http://www.w3.org/1999/02/22-rdf-syntax-ns#type http://somewhere#Person\n",
            "http://www.w3.org/2001/vcard-rdf/3.0/FN http://www.w3.org/2000/01/rdf-schema#range http://www.w3.org/2001/XMLSchema#string\n",
            "http://www.w3.org/2001/vcard-rdf/3.0/Given http://www.w3.org/2000/01/rdf-schema#range http://www.w3.org/2001/XMLSchema#string\n",
            "http://somewhere#SaraJones http://www.w3.org/2001/vcard-rdf/3.0/Family Jones\n",
            "http://somewhere#JohnSmith http://www.w3.org/2001/vcard-rdf/3.0/Given John\n",
            "http://somewhere#SaraJones http://www.w3.org/2001/vcard-rdf/3.0/FN Sara Jones\n",
            "http://somewhere#SaraJones http://www.w3.org/1999/02/22-rdf-syntax-ns#type http://somewhere#Person\n",
            "http://www.w3.org/2001/vcard-rdf/3.0/FN http://www.w3.org/1999/02/22-rdf-syntax-ns#type http://www.w3.org/2000/01/rdf-schema#Datatype\n",
            "http://www.w3.org/2001/vcard-rdf/3.0/Family http://www.w3.org/1999/02/22-rdf-syntax-ns#type http://www.w3.org/2000/01/rdf-schema#Property\n",
            "http://www.w3.org/2001/vcard-rdf/3.0/Given http://www.w3.org/1999/02/22-rdf-syntax-ns#type http://www.w3.org/2000/01/rdf-schema#Datatype\n",
            "http://somewhere#SaraJones http://www.w3.org/2001/vcard-rdf/3.0/Given Sara\n"
          ]
        }
      ],
      "source": [
        "ns = Namespace(\"http://somewhere#\")\n",
        "g.add((ns.Researcher, RDF.type, RDFS.Class))\n",
        "for s, p, o in g:\n",
        "  print(s,p,o)"
      ]
    },
    {
      "cell_type": "markdown",
      "metadata": {
        "colab_type": "text",
        "id": "qp1oe2Eddsvo"
      },
      "source": [
        "**TASK 6.1: Create a new class named \"University\"**"
      ]
    },
    {
      "cell_type": "code",
      "execution_count": 37,
      "metadata": {},
      "outputs": [
        {
          "data": {
            "text/plain": [
              "<Graph identifier=N8e7ad3c92c5646ed9455c2ff5bd1b597 (<class 'rdflib.graph.Graph'>)>"
            ]
          },
          "execution_count": 37,
          "metadata": {},
          "output_type": "execute_result"
        }
      ],
      "source": [
        "g.add((ns.University, RDF.type, RDFS.Class))"
      ]
    },
    {
      "cell_type": "markdown",
      "metadata": {
        "colab_type": "text",
        "id": "MXBqtBkJd22I"
      },
      "source": [
        "**TASK 6.2: Add \"Researcher\" as a subclass of \"Person\"**"
      ]
    },
    {
      "cell_type": "code",
      "execution_count": 38,
      "metadata": {},
      "outputs": [
        {
          "data": {
            "text/plain": [
              "<Graph identifier=N8e7ad3c92c5646ed9455c2ff5bd1b597 (<class 'rdflib.graph.Graph'>)>"
            ]
          },
          "execution_count": 38,
          "metadata": {},
          "output_type": "execute_result"
        }
      ],
      "source": [
        "g.add((ns.Researcher, RDFS.subClassOf, ns.Person))"
      ]
    },
    {
      "cell_type": "markdown",
      "metadata": {
        "colab_type": "text",
        "id": "OGct6k7Ld9O0"
      },
      "source": [
        "**TASK 6.3: Create a new individual of Researcher named \"Jane Smith\"**"
      ]
    },
    {
      "cell_type": "code",
      "execution_count": 39,
      "metadata": {},
      "outputs": [
        {
          "data": {
            "text/plain": [
              "<Graph identifier=N8e7ad3c92c5646ed9455c2ff5bd1b597 (<class 'rdflib.graph.Graph'>)>"
            ]
          },
          "execution_count": 39,
          "metadata": {},
          "output_type": "execute_result"
        }
      ],
      "source": [
        "g.add((ns.JaneSmith, RDF.type, ns.Researcher))"
      ]
    },
    {
      "cell_type": "markdown",
      "metadata": {
        "colab_type": "text",
        "id": "tD383J__eHfV"
      },
      "source": [
        "**TASK 6.4: Add to the individual JaneSmith the fullName, given and family names**"
      ]
    },
    {
      "cell_type": "code",
      "execution_count": 40,
      "metadata": {},
      "outputs": [
        {
          "data": {
            "text/plain": [
              "<Graph identifier=N8e7ad3c92c5646ed9455c2ff5bd1b597 (<class 'rdflib.graph.Graph'>)>"
            ]
          },
          "execution_count": 40,
          "metadata": {},
          "output_type": "execute_result"
        }
      ],
      "source": [
        "VCARD = Namespace(\"http://www.w3.org/2001/vcard-rdf/3.0#\")\n",
        "g.add((ns.JaneSmith, VCARD.FN, Literal('Jane Smith')))\n",
        "g.add((ns.JaneSmith, VCARD.hasGivenName , Literal('Jane')))\n",
        "g.add((ns.JaneSmith, VCARD.hasFamilyName, Literal('Smith')))"
      ]
    },
    {
      "cell_type": "markdown",
      "metadata": {
        "colab_type": "text",
        "id": "GyZOMndoeUj4"
      },
      "source": [
        "**TASK 6.5: Add UPM as the university where John Smith works**"
      ]
    },
    {
      "cell_type": "code",
      "execution_count": 41,
      "metadata": {},
      "outputs": [
        {
          "data": {
            "text/plain": [
              "<Graph identifier=N8e7ad3c92c5646ed9455c2ff5bd1b597 (<class 'rdflib.graph.Graph'>)>"
            ]
          },
          "execution_count": 41,
          "metadata": {},
          "output_type": "execute_result"
        }
      ],
      "source": [
        "g.add((ns.UPM, RDF.type, ns.University))\n",
        "g.add((ns.JohnSmith, VCARD.work, ns.UPM))"
      ]
    },
    {
      "cell_type": "code",
      "execution_count": 42,
      "metadata": {},
      "outputs": [
        {
          "name": "stdout",
          "output_type": "stream",
          "text": [
            "XML :  <?xml version=\"1.0\" encoding=\"UTF-8\"?>\n",
            "<rdf:RDF\n",
            "   xmlns:rdf=\"http://www.w3.org/1999/02/22-rdf-syntax-ns#\"\n",
            "   xmlns:rdfs=\"http://www.w3.org/2000/01/rdf-schema#\"\n",
            "   xmlns:vcard=\"http://www.w3.org/2001/vcard-rdf/3.0#\"\n",
            "   xmlns:vcard-rdf=\"http://www.w3.org/2001/vcard-rdf/3.0/\"\n",
            ">\n",
            "  <rdf:Description rdf:about=\"http://somewhere#JohnSmith\">\n",
            "    <rdf:type rdf:resource=\"http://somewhere#Person\"/>\n",
            "    <vcard-rdf:Given rdf:datatype=\"http://www.w3.org/2001/XMLSchema#string\">John</vcard-rdf:Given>\n",
            "    <vcard-rdf:FN rdf:datatype=\"http://www.w3.org/2001/XMLSchema#string\">John Smith</vcard-rdf:FN>\n",
            "    <vcard-rdf:Family rdf:datatype=\"http://www.w3.org/2001/XMLSchema#string\">Smith</vcard-rdf:Family>\n",
            "    <vcard:work rdf:resource=\"http://somewhere#UPM\"/>\n",
            "  </rdf:Description>\n",
            "  <rdf:Description rdf:about=\"http://somewhere#Researcher\">\n",
            "    <rdf:type rdf:resource=\"http://www.w3.org/2000/01/rdf-schema#Class\"/>\n",
            "    <rdfs:subClassOf rdf:resource=\"http://somewhere#Person\"/>\n",
            "  </rdf:Description>\n",
            "  <rdf:Description rdf:about=\"http://somewhere#JaneSmith\">\n",
            "    <rdf:type rdf:resource=\"http://somewhere#Researcher\"/>\n",
            "    <vcard:FN>Jane Smith</vcard:FN>\n",
            "    <vcard:hasGivenName>Jane</vcard:hasGivenName>\n",
            "    <vcard:hasFamilyName>Smith</vcard:hasFamilyName>\n",
            "  </rdf:Description>\n",
            "  <rdf:Description rdf:about=\"http://www.w3.org/2001/vcard-rdf/3.0/Given\">\n",
            "    <rdf:type rdf:resource=\"http://www.w3.org/2000/01/rdf-schema#Datatype\"/>\n",
            "    <rdfs:range rdf:resource=\"http://www.w3.org/2001/XMLSchema#string\"/>\n",
            "  </rdf:Description>\n",
            "  <rdf:Description rdf:about=\"http://somewhere#University\">\n",
            "    <rdf:type rdf:resource=\"http://www.w3.org/2000/01/rdf-schema#Class\"/>\n",
            "  </rdf:Description>\n",
            "  <rdf:Description rdf:about=\"http://www.w3.org/2001/vcard-rdf/3.0/Family\">\n",
            "    <rdf:type rdf:resource=\"http://www.w3.org/2000/01/rdf-schema#Property\"/>\n",
            "    <rdfs:range rdf:resource=\"http://www.w3.org/2001/XMLSchema#string\"/>\n",
            "  </rdf:Description>\n",
            "  <rdf:Description rdf:about=\"http://somewhere#Person\">\n",
            "    <rdf:type rdf:resource=\"http://www.w3.org/2000/01/rdf-schema#Class\"/>\n",
            "  </rdf:Description>\n",
            "  <rdf:Description rdf:about=\"http://www.w3.org/2001/vcard-rdf/3.0/FN\">\n",
            "    <rdf:type rdf:resource=\"http://www.w3.org/2000/01/rdf-schema#Datatype\"/>\n",
            "    <rdfs:range rdf:resource=\"http://www.w3.org/2001/XMLSchema#string\"/>\n",
            "  </rdf:Description>\n",
            "  <rdf:Description rdf:about=\"http://somewhere#SaraJones\">\n",
            "    <rdf:type rdf:resource=\"http://somewhere#Person\"/>\n",
            "    <vcard-rdf:Given rdf:datatype=\"http://www.w3.org/2001/XMLSchema#string\">Sara</vcard-rdf:Given>\n",
            "    <vcard-rdf:FN rdf:datatype=\"http://www.w3.org/2001/XMLSchema#string\">Sara Jones</vcard-rdf:FN>\n",
            "    <vcard-rdf:Family rdf:datatype=\"http://www.w3.org/2001/XMLSchema#string\">Jones</vcard-rdf:Family>\n",
            "  </rdf:Description>\n",
            "  <rdf:Description rdf:about=\"http://somewhere#UPM\">\n",
            "    <rdf:type rdf:resource=\"http://somewhere#University\"/>\n",
            "  </rdf:Description>\n",
            "</rdf:RDF>\n",
            " \n",
            "\n",
            "JSON-LD : [\n",
            "  {\n",
            "    \"@id\": \"http://somewhere#Researcher\",\n",
            "    \"@type\": [\n",
            "      \"http://www.w3.org/2000/01/rdf-schema#Class\"\n",
            "    ],\n",
            "    \"http://www.w3.org/2000/01/rdf-schema#subClassOf\": [\n",
            "      {\n",
            "        \"@id\": \"http://somewhere#Person\"\n",
            "      }\n",
            "    ]\n",
            "  },\n",
            "  {\n",
            "    \"@id\": \"http://somewhere#JohnSmith\",\n",
            "    \"@type\": [\n",
            "      \"http://somewhere#Person\"\n",
            "    ],\n",
            "    \"http://www.w3.org/2001/vcard-rdf/3.0#work\": [\n",
            "      {\n",
            "        \"@id\": \"http://somewhere#UPM\"\n",
            "      }\n",
            "    ],\n",
            "    \"http://www.w3.org/2001/vcard-rdf/3.0/FN\": [\n",
            "      {\n",
            "        \"@value\": \"John Smith\"\n",
            "      }\n",
            "    ],\n",
            "    \"http://www.w3.org/2001/vcard-rdf/3.0/Family\": [\n",
            "      {\n",
            "        \"@value\": \"Smith\"\n",
            "      }\n",
            "    ],\n",
            "    \"http://www.w3.org/2001/vcard-rdf/3.0/Given\": [\n",
            "      {\n",
            "        \"@value\": \"John\"\n",
            "      }\n",
            "    ]\n",
            "  },\n",
            "  {\n",
            "    \"@id\": \"http://somewhere#SaraJones\",\n",
            "    \"@type\": [\n",
            "      \"http://somewhere#Person\"\n",
            "    ],\n",
            "    \"http://www.w3.org/2001/vcard-rdf/3.0/FN\": [\n",
            "      {\n",
            "        \"@value\": \"Sara Jones\"\n",
            "      }\n",
            "    ],\n",
            "    \"http://www.w3.org/2001/vcard-rdf/3.0/Family\": [\n",
            "      {\n",
            "        \"@value\": \"Jones\"\n",
            "      }\n",
            "    ],\n",
            "    \"http://www.w3.org/2001/vcard-rdf/3.0/Given\": [\n",
            "      {\n",
            "        \"@value\": \"Sara\"\n",
            "      }\n",
            "    ]\n",
            "  },\n",
            "  {\n",
            "    \"@id\": \"http://www.w3.org/2001/vcard-rdf/3.0/Family\",\n",
            "    \"@type\": [\n",
            "      \"http://www.w3.org/2000/01/rdf-schema#Property\"\n",
            "    ],\n",
            "    \"http://www.w3.org/2000/01/rdf-schema#range\": [\n",
            "      {\n",
            "        \"@id\": \"http://www.w3.org/2001/XMLSchema#string\"\n",
            "      }\n",
            "    ]\n",
            "  },\n",
            "  {\n",
            "    \"@id\": \"http://somewhere#Person\",\n",
            "    \"@type\": [\n",
            "      \"http://www.w3.org/2000/01/rdf-schema#Class\"\n",
            "    ]\n",
            "  },\n",
            "  {\n",
            "    \"@id\": \"http://somewhere#JaneSmith\",\n",
            "    \"@type\": [\n",
            "      \"http://somewhere#Researcher\"\n",
            "    ],\n",
            "    \"http://www.w3.org/2001/vcard-rdf/3.0#FN\": [\n",
            "      {\n",
            "        \"@value\": \"Jane Smith\"\n",
            "      }\n",
            "    ],\n",
            "    \"http://www.w3.org/2001/vcard-rdf/3.0#hasFamilyName\": [\n",
            "      {\n",
            "        \"@value\": \"Smith\"\n",
            "      }\n",
            "    ],\n",
            "    \"http://www.w3.org/2001/vcard-rdf/3.0#hasGivenName\": [\n",
            "      {\n",
            "        \"@value\": \"Jane\"\n",
            "      }\n",
            "    ]\n",
            "  },\n",
            "  {\n",
            "    \"@id\": \"http://www.w3.org/2001/vcard-rdf/3.0/FN\",\n",
            "    \"@type\": [\n",
            "      \"http://www.w3.org/2000/01/rdf-schema#Datatype\"\n",
            "    ],\n",
            "    \"http://www.w3.org/2000/01/rdf-schema#range\": [\n",
            "      {\n",
            "        \"@id\": \"http://www.w3.org/2001/XMLSchema#string\"\n",
            "      }\n",
            "    ]\n",
            "  },\n",
            "  {\n",
            "    \"@id\": \"http://somewhere#UPM\",\n",
            "    \"@type\": [\n",
            "      \"http://somewhere#University\"\n",
            "    ]\n",
            "  },\n",
            "  {\n",
            "    \"@id\": \"http://www.w3.org/2001/vcard-rdf/3.0/Given\",\n",
            "    \"@type\": [\n",
            "      \"http://www.w3.org/2000/01/rdf-schema#Datatype\"\n",
            "    ],\n",
            "    \"http://www.w3.org/2000/01/rdf-schema#range\": [\n",
            "      {\n",
            "        \"@id\": \"http://www.w3.org/2001/XMLSchema#string\"\n",
            "      }\n",
            "    ]\n",
            "  },\n",
            "  {\n",
            "    \"@id\": \"http://somewhere#University\",\n",
            "    \"@type\": [\n",
            "      \"http://www.w3.org/2000/01/rdf-schema#Class\"\n",
            "    ]\n",
            "  }\n",
            "]\n"
          ]
        }
      ],
      "source": [
        "#@title\n",
        "print('XML : ', g.serialize(format=\"xml\"), '\\n')\n",
        "print('JSON-LD :',g.serialize(format=\"json-ld\"))\n"
      ]
    }
  ],
  "metadata": {
    "colab": {
      "collapsed_sections": [],
      "name": "Task06.ipynb",
      "provenance": []
    },
    "kernelspec": {
      "display_name": "Python 3",
      "name": "python3"
    },
    "language_info": {
      "codemirror_mode": {
        "name": "ipython",
        "version": 3
      },
      "file_extension": ".py",
      "mimetype": "text/x-python",
      "name": "python",
      "nbconvert_exporter": "python",
      "pygments_lexer": "ipython3",
      "version": "3.9.7"
    }
  },
  "nbformat": 4,
  "nbformat_minor": 0
}
