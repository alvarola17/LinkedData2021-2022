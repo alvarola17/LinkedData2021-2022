{
 "cells": [
  {
   "cell_type": "markdown",
   "metadata": {
    "colab_type": "text",
    "id": "nOOPLCHF7hLB"
   },
   "source": [
    "**Task 07: Querying RDF(s)**"
   ]
  },
  {
   "cell_type": "code",
   "execution_count": 1,
   "metadata": {
    "colab": {},
    "colab_type": "code",
    "id": "Yl9npCt8n6m-"
   },
   "outputs": [
    {
     "name": "stdout",
     "output_type": "stream",
     "text": [
      "Requirement already satisfied: rdflib in c:\\users\\xdavi\\anaconda3\\lib\\site-packages (6.0.2)\n",
      "Requirement already satisfied: isodate in c:\\users\\xdavi\\anaconda3\\lib\\site-packages (from rdflib) (0.6.0)\n",
      "Requirement already satisfied: setuptools in c:\\users\\xdavi\\anaconda3\\lib\\site-packages (from rdflib) (58.0.4)\n",
      "Requirement already satisfied: pyparsing in c:\\users\\xdavi\\anaconda3\\lib\\site-packages (from rdflib) (2.4.7)\n",
      "Requirement already satisfied: six in c:\\users\\xdavi\\anaconda3\\lib\\site-packages (from isodate->rdflib) (1.16.0)\n"
     ]
    }
   ],
   "source": [
    "!pip install rdflib \n",
    "github_storage = \"https://raw.githubusercontent.com/AndreaCimminoArriaga/LinkedData2021-2022/main/Assignment4/\""
   ]
  },
  {
   "cell_type": "markdown",
   "metadata": {
    "colab_type": "text",
    "id": "XY7aPc86Bqoo"
   },
   "source": [
    "Leemos el fichero RDF de la forma que lo hemos venido haciendo"
   ]
  },
  {
   "cell_type": "code",
   "execution_count": 2,
   "metadata": {
    "colab": {},
    "colab_type": "code",
    "id": "9ERh415on7kF"
   },
   "outputs": [
    {
     "data": {
      "text/plain": [
       "<Graph identifier=N96dea9128c994af2818fc4f0921fd4c8 (<class 'rdflib.graph.Graph'>)>"
      ]
     },
     "execution_count": 2,
     "metadata": {},
     "output_type": "execute_result"
    }
   ],
   "source": [
    "from rdflib import Graph, Namespace, Literal\n",
    "from rdflib.namespace import RDF, RDFS\n",
    "g = Graph()\n",
    "g.namespace_manager.bind('ns', Namespace(\"http://somewhere#\"), override=False)\n",
    "g.namespace_manager.bind('vcard', Namespace(\"http://www.w3.org/2001/vcard-rdf/3.0#\"), override=False)\n",
    "g.parse(github_storage+\"/resources/example6.rdf\", format=\"xml\")"
   ]
  },
  {
   "cell_type": "markdown",
   "metadata": {
    "colab_type": "text",
    "id": "qp1oe2Eddsvo"
   },
   "source": [
    "**TASK 7.1: List all subclasses of \"Person\" with RDFLib and SPARQL**"
   ]
  },
  {
   "cell_type": "code",
   "execution_count": 4,
   "metadata": {},
   "outputs": [
    {
     "name": "stdout",
     "output_type": "stream",
     "text": [
      "http://somewhere#Researcher\n"
     ]
    }
   ],
   "source": [
    "ns = Namespace(\"http://somewhere#\")\n",
    "for s,p,o in g.triples((None, RDFS.subClassOf, ns.Person)):\n",
    "    print(s)"
   ]
  },
  {
   "cell_type": "code",
   "execution_count": 5,
   "metadata": {},
   "outputs": [
    {
     "name": "stdout",
     "output_type": "stream",
     "text": [
      "(rdflib.term.URIRef('http://somewhere#Researcher'),)\n"
     ]
    }
   ],
   "source": [
    "from rdflib.plugins.sparql import prepareQuery\n",
    "\n",
    "\n",
    "ns = Namespace(\"http://somewhere#\")\n",
    "\n",
    "\n",
    "q1 = prepareQuery('''\n",
    "  PREFIX RDFS: <http://www.w3.org/2000/01/rdf-schema#>\n",
    "  SELECT \n",
    "    ?Subclass\n",
    "  WHERE { \n",
    "    ?Subclass RDFS:subClassOf ns:Person. \n",
    "  }\n",
    "  ''',\n",
    "  initNs = { \"ns\": ns}\n",
    ")\n",
    "\n",
    "\n",
    "for r in g.query(q1):\n",
    "  print(r)"
   ]
  },
  {
   "cell_type": "markdown",
   "metadata": {
    "colab_type": "text",
    "id": "gM3DASkTQQ5Y"
   },
   "source": [
    "**TASK 7.2: List all individuals of \"Person\" with RDFLib and SPARQL (remember the subClasses)**\n"
   ]
  },
  {
   "cell_type": "code",
   "execution_count": 6,
   "metadata": {},
   "outputs": [
    {
     "name": "stdout",
     "output_type": "stream",
     "text": [
      "http://somewhere#SaraJones\n",
      "http://somewhere#JohnSmith\n",
      "http://somewhere#JaneSmith\n"
     ]
    }
   ],
   "source": [
    "ns = Namespace(\"http://somewhere#\")\n",
    "for s,p,o in g.triples((None ,RDF.type, ns.Person)):\n",
    "        print(s)\n",
    "for s,p,o in g.triples((None, RDFS.subClassOf, ns.Person)):\n",
    "    for s,p,o in g.triples((None ,RDF.type, s)):\n",
    "        print(s)"
   ]
  },
  {
   "cell_type": "code",
   "execution_count": 7,
   "metadata": {},
   "outputs": [
    {
     "name": "stdout",
     "output_type": "stream",
     "text": [
      "(rdflib.term.URIRef('http://somewhere#SaraJones'),)\n",
      "(rdflib.term.URIRef('http://somewhere#JohnSmith'),)\n",
      "(rdflib.term.URIRef('http://somewhere#JaneSmith'),)\n"
     ]
    }
   ],
   "source": [
    "from rdflib.plugins.sparql import prepareQuery\n",
    "\n",
    "\n",
    "ns = Namespace(\"http://somewhere#\")\n",
    "\n",
    "\n",
    "q1 = prepareQuery('''\n",
    "  PREFIX RDFS: <http://www.w3.org/2000/01/rdf-schema#>\n",
    "  SELECT \n",
    "    ?Persons\n",
    "  WHERE { \n",
    "    {?Persons a ns:Person.} UNION {?class RDFS:subClassOf ns:Person. ?Persons a ?class}\n",
    "  }\n",
    "  ''',\n",
    "  initNs = { \"ns\": ns}\n",
    ")\n",
    "\n",
    "\n",
    "for r in g.query(q1):\n",
    "  print(r)"
   ]
  },
  {
   "cell_type": "markdown",
   "metadata": {
    "colab_type": "text",
    "id": "MXBqtBkJd22I"
   },
   "source": [
    "**TASK 7.3: List all individuals of \"Person\" and all their properties including their class with RDFLib and SPARQL**\n"
   ]
  },
  {
   "cell_type": "code",
   "execution_count": 15,
   "metadata": {},
   "outputs": [
    {
     "name": "stdout",
     "output_type": "stream",
     "text": [
      "http://somewhere#SaraJones http://somewhere#http://www.w3.org/2001/vcard-rdf/3.0/Given http://www.w3.org/2000/01/rdf-schema#Datatype\n",
      "http://somewhere#SaraJones http://somewhere#http://www.w3.org/2001/vcard-rdf/3.0/FN http://www.w3.org/2000/01/rdf-schema#Datatype\n",
      "http://somewhere#SaraJones http://somewhere#http://www.w3.org/2001/vcard-rdf/3.0/Family http://www.w3.org/2000/01/rdf-schema#Property\n",
      "http://somewhere#JohnSmith http://somewhere#http://www.w3.org/2001/vcard-rdf/3.0/Given http://www.w3.org/2000/01/rdf-schema#Datatype\n",
      "http://somewhere#JohnSmith http://somewhere#http://www.w3.org/2001/vcard-rdf/3.0/FN http://www.w3.org/2000/01/rdf-schema#Datatype\n",
      "http://somewhere#JohnSmith http://somewhere#http://www.w3.org/2001/vcard-rdf/3.0/Family http://www.w3.org/2000/01/rdf-schema#Property\n",
      "http://somewhere#JaneSmith http://somewhere#http://www.w3.org/2001/vcard-rdf/3.0/Given http://www.w3.org/2000/01/rdf-schema#Datatype\n",
      "http://somewhere#JaneSmith http://somewhere#http://www.w3.org/2001/vcard-rdf/3.0/FN http://www.w3.org/2000/01/rdf-schema#Datatype\n",
      "http://somewhere#JaneSmith http://somewhere#http://www.w3.org/2001/vcard-rdf/3.0/Family http://www.w3.org/2000/01/rdf-schema#Property\n"
     ]
    }
   ],
   "source": [
    "ns = Namespace(\"http://somewhere#\")\n",
    "for individuals,p,o in g.triples((None, RDF.type, ns.Person)):\n",
    "    for s,properties,o in g.triples((individuals, None, None)):\n",
    "        for s,o,classes in g.triples((properties, RDF.type, None)):\n",
    "            print(individuals,properties,classes)\n",
    "for subclass,p,o in g.triples((None, RDFS.subClassOf, ns.Person)):\n",
    "    for individuals,p,o in g.triples((None ,RDF.type, subclass)):\n",
    "        for y,properties,o in g.triples((individuals, None, None)):\n",
    "            for s,p,classes in g.triples((properties, RDF.type, None)):\n",
    "                print(individuals,properties,classes)\n"
   ]
  },
  {
   "cell_type": "code",
   "execution_count": 21,
   "metadata": {},
   "outputs": [
    {
     "name": "stdout",
     "output_type": "stream",
     "text": [
      "(None, rdflib.term.URIRef('http://somewhere#http://www.w3.org/2001/vcard-rdf/3.0/FN'), rdflib.term.URIRef('http://www.w3.org/2000/01/rdf-schema#Datatype'))\n",
      "(None, rdflib.term.URIRef('http://somewhere#http://www.w3.org/2001/vcard-rdf/3.0/Given'), rdflib.term.URIRef('http://www.w3.org/2000/01/rdf-schema#Datatype'))\n",
      "(None, rdflib.term.URIRef('http://somewhere#http://www.w3.org/2001/vcard-rdf/3.0/Family'), rdflib.term.URIRef('http://www.w3.org/2000/01/rdf-schema#Property'))\n",
      "(None, rdflib.term.URIRef('http://somewhere#http://www.w3.org/2001/vcard-rdf/3.0/FN'), rdflib.term.URIRef('http://www.w3.org/2000/01/rdf-schema#Datatype'))\n",
      "(None, rdflib.term.URIRef('http://somewhere#http://www.w3.org/2001/vcard-rdf/3.0/Given'), rdflib.term.URIRef('http://www.w3.org/2000/01/rdf-schema#Datatype'))\n",
      "(None, rdflib.term.URIRef('http://somewhere#http://www.w3.org/2001/vcard-rdf/3.0/Family'), rdflib.term.URIRef('http://www.w3.org/2000/01/rdf-schema#Property'))\n",
      "(None, rdflib.term.URIRef('http://somewhere#http://www.w3.org/2001/vcard-rdf/3.0/FN'), rdflib.term.URIRef('http://www.w3.org/2000/01/rdf-schema#Datatype'))\n",
      "(None, rdflib.term.URIRef('http://somewhere#http://www.w3.org/2001/vcard-rdf/3.0/Given'), rdflib.term.URIRef('http://www.w3.org/2000/01/rdf-schema#Datatype'))\n",
      "(None, rdflib.term.URIRef('http://somewhere#http://www.w3.org/2001/vcard-rdf/3.0/Family'), rdflib.term.URIRef('http://www.w3.org/2000/01/rdf-schema#Property'))\n"
     ]
    }
   ],
   "source": [
    "from rdflib.plugins.sparql import prepareQuery\n",
    "\n",
    "\n",
    "ns = Namespace(\"http://somewhere#\")\n",
    "\n",
    "\n",
    "q1 = prepareQuery('''\n",
    "  PREFIX RDFS: <http://www.w3.org/2000/01/rdf-schema#>\n",
    "  SELECT ?Persons ?properties ?class\n",
    "  WHERE {\n",
    "    {?individuals a ns:Person. ?individuals ?properties ?y.?properties a ?class.} UNION {?subclass RDFS:subClassOf ns:Person. ?individuals a ?subclass. ?individuals ?properties ?z. ?properties a ?class}\n",
    "  }\n",
    "  ''',\n",
    "  initNs = { \"ns\": ns}\n",
    ")\n",
    "\n",
    "\n",
    "for r in g.query(q1):\n",
    "  print(r)"
   ]
  },
  {
   "cell_type": "code",
   "execution_count": null,
   "metadata": {},
   "outputs": [],
   "source": []
  }
 ],
 "metadata": {
  "colab": {
   "collapsed_sections": [],
   "name": "Task07.ipynb",
   "provenance": []
  },
  "kernelspec": {
   "display_name": "Python 3 (ipykernel)",
   "language": "python",
   "name": "python3"
  },
  "language_info": {
   "codemirror_mode": {
    "name": "ipython",
    "version": 3
   },
   "file_extension": ".py",
   "mimetype": "text/x-python",
   "name": "python",
   "nbconvert_exporter": "python",
   "pygments_lexer": "ipython3",
   "version": "3.8.12"
  }
 },
 "nbformat": 4,
 "nbformat_minor": 1
}
